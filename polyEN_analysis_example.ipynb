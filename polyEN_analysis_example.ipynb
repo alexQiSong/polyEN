{
 "cells": [
  {
   "cell_type": "markdown",
   "metadata": {},
   "source": [
    "This notebook demonstrates how to use the polyEN pipeline"
   ]
  },
  {
   "cell_type": "code",
   "execution_count": 4,
   "metadata": {},
   "outputs": [],
   "source": [
    "from polyEN import *\n",
    "from sklearn.metrics import r2_score\n",
    "\n",
    "import scanpy as sc"
   ]
  },
  {
   "cell_type": "markdown",
   "metadata": {},
   "source": [
    "### Read data\n",
    "Input data is an anndata object that has been properly normalized"
   ]
  },
  {
   "cell_type": "code",
   "execution_count": 5,
   "metadata": {},
   "outputs": [
    {
     "name": "stderr",
     "output_type": "stream",
     "text": [
      "/jet/home/qsong/.conda/envs/lung_aging/lib/python3.9/site-packages/anndata/_core/anndata.py:121: ImplicitModificationWarning: Transforming to str index.\n",
      "  warnings.warn(\"Transforming to str index.\", ImplicitModificationWarning)\n"
     ]
    }
   ],
   "source": [
    "ann = sc.read_h5ad(\"/ocean/projects/hmcmutc/qsong/projects/lung_aging/src/github/data/step1_HLCA_nonsmoker_processed.h5ad\")"
   ]
  },
  {
   "cell_type": "markdown",
   "metadata": {},
   "source": [
    "Keep only these columns in anndata"
   ]
  },
  {
   "cell_type": "code",
   "execution_count": 6,
   "metadata": {},
   "outputs": [],
   "source": [
    "ann.obs = ann.obs.loc[:,['donor_id',\n",
    "                                       'age',\n",
    "                                       'ann_level_1',\n",
    "                                       'ann_level_2',\n",
    "                                       'ann_level_3',\n",
    "                                       'ann_level_4',\n",
    "                                       'ann_level_5']\n",
    "                                     ]"
   ]
  },
  {
   "cell_type": "markdown",
   "metadata": {},
   "source": [
    "### Analysis\n",
    "#### 1. Training fully with one cell type and test on the other cell type\n",
    "PolyEN can be trained with one cell type or multiple cell types. You just need to include one or multiple cell type names in the argument `cts`. For example, you can specify `cts = ['Suprabasal','Basal resting']` to train model with `Suprabasal` cells and `Basal resting` cells."
   ]
  },
  {
   "cell_type": "markdown",
   "metadata": {},
   "source": [
    "Function `polyEN_train_full` will use all available donors annotated with the given cell types. The parameters are explained below:\n",
    "- `anndata`: anndata object from `AnnData` package\n",
    "- `cts`: A list of strings that include cell type names of interest\n",
    "- `ct_column`: A string, the column that includes cell type annotations\n",
    "- `donor_column`: A string, the column that includes donor ID annotations\n",
    "- `age_column`: A string, the column that includes donor age annotations. This column should be integers\n",
    "- `param_space`: A dictionary, this dictionary should include the hyper parameters to be tunned for polyEN model (alpha and l1_ratio).\n",
    "- `mean_degree`: The degree of polynomial features of the gene mean expressions (default 2).\n",
    "- `var_degree`: The degree of polynomial features of the gene variance expressions (default 2).\n",
    "- `marker_genes`: The type of genes to be used for modeling. Can be one of the following: \"all\", \"union\", \"fridman\", \"sasp2\", \"cellage\", \"senmayo\". \"all\" means all available genes in anndata. All others represent senescence marker lists (default \"union\").\n",
    "- `min_cells`: An integer, for the selected cell types, donors with cells smaller than this number will be excluded (default 50).\n",
    "- `n_hyper_eval`: An integer representing number of evaluations for hyperparameter tunning (default 30).\n",
    "- `n_components`: An integer representing number of PCA components if `use_pca` is set to `True`.\n",
    "- `use_pca`: A boolean vairable representing whether to run PCA to generate input features.\n",
    "This function will return a polyEN model object. Which has the same attributes and methods with regular scikit-learn model class"
   ]
  },
  {
   "cell_type": "code",
   "execution_count": 7,
   "metadata": {},
   "outputs": [],
   "source": [
    "param_space = {\n",
    "             'alpha': hp.choice('alpha', [0.001, 0.01, 0.1, 1, 10, 100]), \n",
    "             'l1_ratio': hp.uniform('l1_ratio', 0.1, 1.0)\n",
    "    }"
   ]
  },
  {
   "cell_type": "code",
   "execution_count": 8,
   "metadata": {},
   "outputs": [
    {
     "name": "stdout",
     "output_type": "stream",
     "text": [
      "(1/27/2024 22:17:33) Generate training data ...\n",
      "(1/27/2024 22:17:35) Done.\n",
      "(1/27/2024 22:17:35) Training polyEN model...\n",
      "(1/27/2024 22:17:42) Done.\n"
     ]
    }
   ],
   "source": [
    "model = polyEN_train_full(anndata = ann,\n",
    "                          ct_column = \"ann_level_4\",\n",
    "                          cts = ['Suprabasal'],\n",
    "                          donor_column = \"donor_id\",\n",
    "                          age_column = 'age',\n",
    "                          param_space = param_space,\n",
    "                          mean_degree = 2,\n",
    "                          var_degree = 2,\n",
    "                          marker_genes = 'union',\n",
    "                          min_cells = 20,\n",
    "                          n_hyper_eval=30,\n",
    "                          n_components=10,\n",
    "                          use_pca=False\n",
    "                         )"
   ]
  },
  {
   "cell_type": "markdown",
   "metadata": {},
   "source": [
    "Function generate_data can generate input data for polyEN model. We can use this function to generate test data for polyEN model. Addtional parameters are explained below:\n",
    "- `n_rep`: number of replicates"
   ]
  },
  {
   "cell_type": "code",
   "execution_count": 9,
   "metadata": {},
   "outputs": [],
   "source": [
    "test_data_X, test_data_Y, gene_type, use_pca, rep  = generate_data(ann = ann,\n",
    "                                                                      cts = ['Basal resting'],\n",
    "                                                                      donor_column = \"donor_id\",\n",
    "                                                                      ct_column = \"ann_level_4\",\n",
    "                                                                      age_column = \"age\",\n",
    "                                                                      marker_genes = 'union',\n",
    "                                                                      min_cells = 20,\n",
    "                                                                      n_rep=1,\n",
    "                                                                      mean_degree=2,\n",
    "                                                                      var_degree=2,\n",
    "                                                                      use_pca=False\n",
    "                                                                     )[0]"
   ]
  },
  {
   "cell_type": "markdown",
   "metadata": {},
   "source": [
    "Predict the ages on test data set"
   ]
  },
  {
   "cell_type": "code",
   "execution_count": 10,
   "metadata": {},
   "outputs": [],
   "source": [
    "pred_age = model.predict(test_data_X)"
   ]
  },
  {
   "cell_type": "markdown",
   "metadata": {},
   "source": [
    "We compute $R^2$ score for the predicted ages"
   ]
  },
  {
   "cell_type": "code",
   "execution_count": 32,
   "metadata": {},
   "outputs": [
    {
     "data": {
      "text/plain": [
       "0.5341689926918051"
      ]
     },
     "execution_count": 32,
     "metadata": {},
     "output_type": "execute_result"
    }
   ],
   "source": [
    "r2_score(test_data_Y, pred_age)"
   ]
  },
  {
   "cell_type": "markdown",
   "metadata": {},
   "source": [
    "#### 2. Cross-validation on one or multiple cell types\n",
    "polyEN pipeline also enables training and testing by cross validation. We first perform cross validation by leave-one-out (loo) test. Addtional parameters are explained below:\n",
    "- `test_method`: A string specifying the cross-validation test method, can be either \"loo\" or \"kfold\".\n",
    "- `n_jobs`: Number of parallel jobs"
   ]
  },
  {
   "cell_type": "code",
   "execution_count": 30,
   "metadata": {},
   "outputs": [
    {
     "name": "stdout",
     "output_type": "stream",
     "text": [
      "(1/27/2024 13:13:38) Generate training data ...\n",
      "(1/27/2024 13:13:44) Done.\n",
      "(1/27/2024 13:13:44) Training and testing polyEN model...\n",
      "(1/27/2024 13:13:44) Training and testing for rep 1\n"
     ]
    },
    {
     "name": "stderr",
     "output_type": "stream",
     "text": [
      "100%|██████████| 21/21 [00:00<00:00, 83.26it/s]\n"
     ]
    },
    {
     "name": "stdout",
     "output_type": "stream",
     "text": [
      "(1/27/2024 14:10:16) Training and testing for rep 2\n"
     ]
    },
    {
     "name": "stderr",
     "output_type": "stream",
     "text": [
      "100%|██████████| 21/21 [00:00<00:00, 123.65it/s]\n"
     ]
    },
    {
     "name": "stdout",
     "output_type": "stream",
     "text": [
      "(1/27/2024 15:8:44) Training and testing for rep 3\n"
     ]
    },
    {
     "name": "stderr",
     "output_type": "stream",
     "text": [
      "100%|██████████| 21/21 [00:00<00:00, 99.31it/s]\n"
     ]
    },
    {
     "name": "stdout",
     "output_type": "stream",
     "text": [
      "(1/27/2024 16:8:32) Training and testing for rep 4\n"
     ]
    },
    {
     "name": "stderr",
     "output_type": "stream",
     "text": [
      "100%|██████████| 21/21 [00:00<00:00, 89.97it/s]\n"
     ]
    },
    {
     "name": "stdout",
     "output_type": "stream",
     "text": [
      "(1/27/2024 17:4:1) Training and testing for rep 5\n"
     ]
    },
    {
     "name": "stderr",
     "output_type": "stream",
     "text": [
      "100%|██████████| 21/21 [00:00<00:00, 109.94it/s]\n"
     ]
    }
   ],
   "source": [
    "test_results = polyEN_train_cv(anndata = ann,\n",
    "                ct_column = \"ann_level_4\",\n",
    "                cts = ['Suprabasal'],\n",
    "                donor_column = 'donor_id',\n",
    "                age_column = 'age',\n",
    "                param_space = param_space,\n",
    "                mean_degree = 2,\n",
    "                var_degree = 2,\n",
    "                marker_genes = 'all',\n",
    "                min_cells = 50,\n",
    "                n_hyper_eval=30,\n",
    "                n_components=10,\n",
    "                use_pca=False,\n",
    "                test_method = 'loo',\n",
    "                n_jobs = 12\n",
    "               )"
   ]
  },
  {
   "cell_type": "code",
   "execution_count": 31,
   "metadata": {},
   "outputs": [
    {
     "data": {
      "text/html": [
       "<div>\n",
       "<style scoped>\n",
       "    .dataframe tbody tr th:only-of-type {\n",
       "        vertical-align: middle;\n",
       "    }\n",
       "\n",
       "    .dataframe tbody tr th {\n",
       "        vertical-align: top;\n",
       "    }\n",
       "\n",
       "    .dataframe thead th {\n",
       "        text-align: right;\n",
       "    }\n",
       "</style>\n",
       "<table border=\"1\" class=\"dataframe\">\n",
       "  <thead>\n",
       "    <tr style=\"text-align: right;\">\n",
       "      <th></th>\n",
       "      <th>R2</th>\n",
       "      <th>RMSE</th>\n",
       "      <th>rep</th>\n",
       "      <th>PCA</th>\n",
       "      <th>age_true</th>\n",
       "      <th>age_pred</th>\n",
       "    </tr>\n",
       "  </thead>\n",
       "  <tbody>\n",
       "    <tr>\n",
       "      <th>0</th>\n",
       "      <td>0.270595</td>\n",
       "      <td>14.155788</td>\n",
       "      <td>0</td>\n",
       "      <td>False</td>\n",
       "      <td>30.0,31.0,29.0,30.0,33.0,24.0,27.0,61.0,57.0,5...</td>\n",
       "      <td>34.09535,33.453598,26.798338,37.53339,23.0888,...</td>\n",
       "    </tr>\n",
       "    <tr>\n",
       "      <th>1</th>\n",
       "      <td>0.287545</td>\n",
       "      <td>13.990337</td>\n",
       "      <td>1</td>\n",
       "      <td>False</td>\n",
       "      <td>30.0,31.0,29.0,30.0,33.0,24.0,27.0,61.0,57.0,5...</td>\n",
       "      <td>33.194733,33.482086,27.944025,37.61245,22.7884...</td>\n",
       "    </tr>\n",
       "    <tr>\n",
       "      <th>2</th>\n",
       "      <td>0.356571</td>\n",
       "      <td>13.295357</td>\n",
       "      <td>2</td>\n",
       "      <td>False</td>\n",
       "      <td>30.0,31.0,29.0,30.0,33.0,24.0,27.0,61.0,57.0,5...</td>\n",
       "      <td>33.083305,28.904392,27.98568,37.49653,22.75858...</td>\n",
       "    </tr>\n",
       "    <tr>\n",
       "      <th>3</th>\n",
       "      <td>0.340516</td>\n",
       "      <td>13.460205</td>\n",
       "      <td>3</td>\n",
       "      <td>False</td>\n",
       "      <td>30.0,31.0,29.0,30.0,33.0,24.0,27.0,61.0,57.0,5...</td>\n",
       "      <td>33.081223,33.46962,36.109573,37.49811,22.88818...</td>\n",
       "    </tr>\n",
       "    <tr>\n",
       "      <th>4</th>\n",
       "      <td>0.217892</td>\n",
       "      <td>14.658274</td>\n",
       "      <td>4</td>\n",
       "      <td>False</td>\n",
       "      <td>30.0,31.0,29.0,30.0,33.0,24.0,27.0,61.0,57.0,5...</td>\n",
       "      <td>33.068184,33.465015,27.258541,36.04915,22.8757...</td>\n",
       "    </tr>\n",
       "  </tbody>\n",
       "</table>\n",
       "</div>"
      ],
      "text/plain": [
       "         R2       RMSE  rep    PCA  \\\n",
       "0  0.270595  14.155788    0  False   \n",
       "1  0.287545  13.990337    1  False   \n",
       "2  0.356571  13.295357    2  False   \n",
       "3  0.340516  13.460205    3  False   \n",
       "4  0.217892  14.658274    4  False   \n",
       "\n",
       "                                            age_true  \\\n",
       "0  30.0,31.0,29.0,30.0,33.0,24.0,27.0,61.0,57.0,5...   \n",
       "1  30.0,31.0,29.0,30.0,33.0,24.0,27.0,61.0,57.0,5...   \n",
       "2  30.0,31.0,29.0,30.0,33.0,24.0,27.0,61.0,57.0,5...   \n",
       "3  30.0,31.0,29.0,30.0,33.0,24.0,27.0,61.0,57.0,5...   \n",
       "4  30.0,31.0,29.0,30.0,33.0,24.0,27.0,61.0,57.0,5...   \n",
       "\n",
       "                                            age_pred  \n",
       "0  34.09535,33.453598,26.798338,37.53339,23.0888,...  \n",
       "1  33.194733,33.482086,27.944025,37.61245,22.7884...  \n",
       "2  33.083305,28.904392,27.98568,37.49653,22.75858...  \n",
       "3  33.081223,33.46962,36.109573,37.49811,22.88818...  \n",
       "4  33.068184,33.465015,27.258541,36.04915,22.8757...  "
      ]
     },
     "execution_count": 31,
     "metadata": {},
     "output_type": "execute_result"
    }
   ],
   "source": [
    "test_results"
   ]
  },
  {
   "cell_type": "markdown",
   "metadata": {},
   "source": [
    "We can also perform cross_validation by K fold cross validation. Addtional parameters are explained below:\n",
    "- `val_ratio`: A float number representing the ratio of training data used for hyperparameter tunning (every iteration of the k fold). Default value is 0.2"
   ]
  },
  {
   "cell_type": "code",
   "execution_count": 13,
   "metadata": {},
   "outputs": [
    {
     "name": "stdout",
     "output_type": "stream",
     "text": [
      "(1/27/2024 22:18:35) Generate training data ...\n",
      "(1/27/2024 22:18:37) Done.\n",
      "(1/27/2024 22:18:37) Training and testing polyEN model...\n",
      "(1/27/2024 22:18:37) Training and testing for rep 1\n"
     ]
    },
    {
     "name": "stderr",
     "output_type": "stream",
     "text": [
      "100%|██████████| 2/2 [00:58<00:00, 29.22s/it]\n"
     ]
    },
    {
     "name": "stdout",
     "output_type": "stream",
     "text": [
      "(1/27/2024 22:19:35) Training and testing for rep 2\n"
     ]
    },
    {
     "name": "stderr",
     "output_type": "stream",
     "text": [
      "100%|██████████| 2/2 [00:43<00:00, 21.79s/it]\n"
     ]
    },
    {
     "name": "stdout",
     "output_type": "stream",
     "text": [
      "(1/27/2024 22:20:19) Training and testing for rep 3\n"
     ]
    },
    {
     "name": "stderr",
     "output_type": "stream",
     "text": [
      "100%|██████████| 2/2 [00:50<00:00, 25.31s/it]\n"
     ]
    },
    {
     "name": "stdout",
     "output_type": "stream",
     "text": [
      "(1/27/2024 22:21:10) Training and testing for rep 4\n"
     ]
    },
    {
     "name": "stderr",
     "output_type": "stream",
     "text": [
      "100%|██████████| 2/2 [00:54<00:00, 27.33s/it]\n"
     ]
    },
    {
     "name": "stdout",
     "output_type": "stream",
     "text": [
      "(1/27/2024 22:22:4) Training and testing for rep 5\n"
     ]
    },
    {
     "name": "stderr",
     "output_type": "stream",
     "text": [
      "100%|██████████| 2/2 [00:50<00:00, 25.45s/it]\n"
     ]
    }
   ],
   "source": [
    "test_results = polyEN_train_cv(anndata = ann,\n",
    "                ct_column = \"ann_level_1\",\n",
    "                cts = ['Immune'],\n",
    "                donor_column = 'donor_id',\n",
    "                age_column = 'age',\n",
    "                param_space = param_space,\n",
    "                mean_degree = 2,\n",
    "                var_degree = 2,\n",
    "                marker_genes = 'union',\n",
    "                min_cells = 20,\n",
    "                n_hyper_eval=30,\n",
    "                n_components=10,\n",
    "                use_pca=False,\n",
    "                test_method = 'kfold',\n",
    "                val_ratio = 0.2,\n",
    "                k = 2,\n",
    "                n_jobs = 2\n",
    "               )"
   ]
  },
  {
   "cell_type": "code",
   "execution_count": 15,
   "metadata": {},
   "outputs": [
    {
     "data": {
      "text/html": [
       "<div>\n",
       "<style scoped>\n",
       "    .dataframe tbody tr th:only-of-type {\n",
       "        vertical-align: middle;\n",
       "    }\n",
       "\n",
       "    .dataframe tbody tr th {\n",
       "        vertical-align: top;\n",
       "    }\n",
       "\n",
       "    .dataframe thead th {\n",
       "        text-align: right;\n",
       "    }\n",
       "</style>\n",
       "<table border=\"1\" class=\"dataframe\">\n",
       "  <thead>\n",
       "    <tr style=\"text-align: right;\">\n",
       "      <th></th>\n",
       "      <th>R2</th>\n",
       "      <th>RMSE</th>\n",
       "      <th>rep</th>\n",
       "      <th>PCA</th>\n",
       "      <th>age_true</th>\n",
       "      <th>age_pred</th>\n",
       "    </tr>\n",
       "  </thead>\n",
       "  <tbody>\n",
       "    <tr>\n",
       "      <th>0</th>\n",
       "      <td>-24.250349</td>\n",
       "      <td>83.347827</td>\n",
       "      <td>0</td>\n",
       "      <td>False</td>\n",
       "      <td>42.5,67.5,31.0,29.999999999999996,33.0,24.0,27...</td>\n",
       "      <td>43.672997,55.05066,47.042316,466.4402,-40.0749...</td>\n",
       "    </tr>\n",
       "    <tr>\n",
       "      <th>1</th>\n",
       "      <td>-23.039001</td>\n",
       "      <td>81.324012</td>\n",
       "      <td>1</td>\n",
       "      <td>False</td>\n",
       "      <td>42.5,67.5,31.0,29.999999999999996,33.0,24.0,27...</td>\n",
       "      <td>44.56045,56.561367,48.957485,459.33667,-30.241...</td>\n",
       "    </tr>\n",
       "    <tr>\n",
       "      <th>2</th>\n",
       "      <td>-22.638736</td>\n",
       "      <td>80.644122</td>\n",
       "      <td>2</td>\n",
       "      <td>False</td>\n",
       "      <td>42.5,67.5,31.0,29.999999999999996,33.0,24.0,27...</td>\n",
       "      <td>44.523834,56.492958,49.02276,455.39435,-29.184...</td>\n",
       "    </tr>\n",
       "    <tr>\n",
       "      <th>3</th>\n",
       "      <td>-22.724629</td>\n",
       "      <td>80.790501</td>\n",
       "      <td>3</td>\n",
       "      <td>False</td>\n",
       "      <td>42.5,67.5,31.0,29.999999999999996,33.0,24.0,27...</td>\n",
       "      <td>44.53233,56.50912,49.00869,456.2362,-29.427742...</td>\n",
       "    </tr>\n",
       "    <tr>\n",
       "      <th>4</th>\n",
       "      <td>-23.985012</td>\n",
       "      <td>82.908750</td>\n",
       "      <td>4</td>\n",
       "      <td>False</td>\n",
       "      <td>42.5,67.5,31.0,29.999999999999996,33.0,24.0,27...</td>\n",
       "      <td>44.470642,56.40152,48.727062,467.85547,-31.972...</td>\n",
       "    </tr>\n",
       "  </tbody>\n",
       "</table>\n",
       "</div>"
      ],
      "text/plain": [
       "          R2       RMSE  rep    PCA  \\\n",
       "0 -24.250349  83.347827    0  False   \n",
       "1 -23.039001  81.324012    1  False   \n",
       "2 -22.638736  80.644122    2  False   \n",
       "3 -22.724629  80.790501    3  False   \n",
       "4 -23.985012  82.908750    4  False   \n",
       "\n",
       "                                            age_true  \\\n",
       "0  42.5,67.5,31.0,29.999999999999996,33.0,24.0,27...   \n",
       "1  42.5,67.5,31.0,29.999999999999996,33.0,24.0,27...   \n",
       "2  42.5,67.5,31.0,29.999999999999996,33.0,24.0,27...   \n",
       "3  42.5,67.5,31.0,29.999999999999996,33.0,24.0,27...   \n",
       "4  42.5,67.5,31.0,29.999999999999996,33.0,24.0,27...   \n",
       "\n",
       "                                            age_pred  \n",
       "0  43.672997,55.05066,47.042316,466.4402,-40.0749...  \n",
       "1  44.56045,56.561367,48.957485,459.33667,-30.241...  \n",
       "2  44.523834,56.492958,49.02276,455.39435,-29.184...  \n",
       "3  44.53233,56.50912,49.00869,456.2362,-29.427742...  \n",
       "4  44.470642,56.40152,48.727062,467.85547,-31.972...  "
      ]
     },
     "execution_count": 15,
     "metadata": {},
     "output_type": "execute_result"
    }
   ],
   "source": [
    "test_results"
   ]
  }
 ],
 "metadata": {
  "kernelspec": {
   "display_name": "lung_aging",
   "language": "python",
   "name": "lung_aging"
  },
  "language_info": {
   "codemirror_mode": {
    "name": "ipython",
    "version": 3
   },
   "file_extension": ".py",
   "mimetype": "text/x-python",
   "name": "python",
   "nbconvert_exporter": "python",
   "pygments_lexer": "ipython3",
   "version": "3.9.13"
  }
 },
 "nbformat": 4,
 "nbformat_minor": 4
}
